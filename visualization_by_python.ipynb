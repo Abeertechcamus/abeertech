{
 "cells": [
  {
   "cell_type": "code",
   "execution_count": 1,
   "id": "3d3e0ae7",
   "metadata": {
    "_cell_guid": "b1076dfc-b9ad-4769-8c92-a6c4dae69d19",
    "_uuid": "8f2839f25d086af736a60e9eeb907d3b93b6e0e5",
    "execution": {
     "iopub.execute_input": "2024-10-21T16:18:47.388195Z",
     "iopub.status.busy": "2024-10-21T16:18:47.387752Z",
     "iopub.status.idle": "2024-10-21T16:18:48.216691Z",
     "shell.execute_reply": "2024-10-21T16:18:48.215476Z"
    },
    "papermill": {
     "duration": 0.835417,
     "end_time": "2024-10-21T16:18:48.219322",
     "exception": false,
     "start_time": "2024-10-21T16:18:47.383905",
     "status": "completed"
    },
    "tags": []
   },
   "outputs": [],
   "source": [
    "import pandas as pd\n",
    "import numpy as np\n",
    "import matplotlib.pyplot as plt\n"
   ]
  },
  {
   "cell_type": "code",
   "execution_count": 2,
   "id": "14c33fe2",
   "metadata": {
    "execution": {
     "iopub.execute_input": "2024-10-21T16:18:48.225335Z",
     "iopub.status.busy": "2024-10-21T16:18:48.224813Z",
     "iopub.status.idle": "2024-10-21T16:18:48.246239Z",
     "shell.execute_reply": "2024-10-21T16:18:48.245026Z"
    },
    "papermill": {
     "duration": 0.027442,
     "end_time": "2024-10-21T16:18:48.248946",
     "exception": false,
     "start_time": "2024-10-21T16:18:48.221504",
     "status": "completed"
    },
    "tags": []
   },
   "outputs": [
    {
     "data": {
      "text/html": [
       "<div>\n",
       "<style scoped>\n",
       "    .dataframe tbody tr th:only-of-type {\n",
       "        vertical-align: middle;\n",
       "    }\n",
       "\n",
       "    .dataframe tbody tr th {\n",
       "        vertical-align: top;\n",
       "    }\n",
       "\n",
       "    .dataframe thead th {\n",
       "        text-align: right;\n",
       "    }\n",
       "</style>\n",
       "<table border=\"1\" class=\"dataframe\">\n",
       "  <thead>\n",
       "    <tr style=\"text-align: right;\">\n",
       "      <th></th>\n",
       "      <th>Salary</th>\n",
       "      <th>Experince</th>\n",
       "    </tr>\n",
       "  </thead>\n",
       "  <tbody>\n",
       "    <tr>\n",
       "      <th>0</th>\n",
       "      <td>7000</td>\n",
       "      <td>0</td>\n",
       "    </tr>\n",
       "    <tr>\n",
       "      <th>1</th>\n",
       "      <td>7500</td>\n",
       "      <td>1</td>\n",
       "    </tr>\n",
       "    <tr>\n",
       "      <th>2</th>\n",
       "      <td>8000</td>\n",
       "      <td>2</td>\n",
       "    </tr>\n",
       "    <tr>\n",
       "      <th>3</th>\n",
       "      <td>8500</td>\n",
       "      <td>3</td>\n",
       "    </tr>\n",
       "    <tr>\n",
       "      <th>4</th>\n",
       "      <td>10000</td>\n",
       "      <td>4</td>\n",
       "    </tr>\n",
       "    <tr>\n",
       "      <th>5</th>\n",
       "      <td>12000</td>\n",
       "      <td>5</td>\n",
       "    </tr>\n",
       "    <tr>\n",
       "      <th>6</th>\n",
       "      <td>14500</td>\n",
       "      <td>7</td>\n",
       "    </tr>\n",
       "    <tr>\n",
       "      <th>7</th>\n",
       "      <td>19500</td>\n",
       "      <td>8</td>\n",
       "    </tr>\n",
       "    <tr>\n",
       "      <th>8</th>\n",
       "      <td>25000</td>\n",
       "      <td>10</td>\n",
       "    </tr>\n",
       "    <tr>\n",
       "      <th>9</th>\n",
       "      <td>30000</td>\n",
       "      <td>15</td>\n",
       "    </tr>\n",
       "  </tbody>\n",
       "</table>\n",
       "</div>"
      ],
      "text/plain": [
       "   Salary  Experince\n",
       "0    7000          0\n",
       "1    7500          1\n",
       "2    8000          2\n",
       "3    8500          3\n",
       "4   10000          4\n",
       "5   12000          5\n",
       "6   14500          7\n",
       "7   19500          8\n",
       "8   25000         10\n",
       "9   30000         15"
      ]
     },
     "metadata": {},
     "output_type": "display_data"
    }
   ],
   "source": [
    "\n",
    "# Step 1: Create the dataset\n",
    "\n",
    "\n",
    "data = {'Salary': [7000, 7500, 8000, 8500, 10000,12000, 14500, 19500, 25000, 30000],\n",
    "        'Experince': [0, 1, 2, 3, 4, 5, 7, 8, 10, 15]}\n",
    "\n",
    "df = pd.DataFrame(data)\n",
    "display(df)"
   ]
  },
  {
   "cell_type": "code",
   "execution_count": 3,
   "id": "a4fe434d",
   "metadata": {
    "execution": {
     "iopub.execute_input": "2024-10-21T16:18:48.254879Z",
     "iopub.status.busy": "2024-10-21T16:18:48.254480Z",
     "iopub.status.idle": "2024-10-21T16:18:48.533453Z",
     "shell.execute_reply": "2024-10-21T16:18:48.532383Z"
    },
    "papermill": {
     "duration": 0.284718,
     "end_time": "2024-10-21T16:18:48.535900",
     "exception": false,
     "start_time": "2024-10-21T16:18:48.251182",
     "status": "completed"
    },
    "tags": []
   },
   "outputs": [
    {
     "data": {
      "image/png": "[encoded data removed]",
      "text/plain": [
       "<Figure size 640x480 with 1 Axes>"
      ]
     },
     "metadata": {},
     "output_type": "display_data"
    }
   ],
   "source": [
    "\n",
    "# Step 2: Plot the data\n",
    "plt.plot(df['Salary'], df['Experince'], color='blue')\n",
    "plt.title('Salary vs Experince')\n",
    "plt.ylabel('Experince')\n",
    "plt.show()"
   ]
  }
 ],
 "metadata": {
  "kaggle": {
   "accelerator": "none",
   "dataSources": [
    {
     "datasetId": 5913933,
     "sourceId": 9676326,
     "sourceType": "datasetVersion"
    }
   ],
   "dockerImageVersionId": 30786,
   "isGpuEnabled": false,
   "isInternetEnabled": false,
   "language": "python",
   "sourceType": "notebook"
  },
  "kernelspec": {
   "display_name": "Python 3",
   "language": "python",
   "name": "python3"
  },
  "language_info": {
   "codemirror_mode": {
    "name": "ipython",
    "version": 3
   },
   "file_extension": ".py",
   "mimetype": "text/x-python",
   "name": "python",
   "nbconvert_exporter": "python",
   "pygments_lexer": "ipython3",
   "version": "3.10.14"
  },
  "papermill": {
   "default_parameters": {},
   "duration": 4.230313,
   "end_time": "2024-10-21T16:18:48.958203",
   "environment_variables": {},
   "exception": null,
   "input_path": "__notebook__.ipynb",
   "output_path": "__notebook__.ipynb",
   "parameters": {},
   "start_time": "2024-10-21T16:18:44.727890",
   "version": "2.6.0"
  }
 },
 "nbformat": 4,
 "nbformat_minor": 5
}
